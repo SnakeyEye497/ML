{
 "cells": [
  {
   "cell_type": "markdown",
   "metadata": {},
   "source": [
    "# Data Analysis Operations in Python using Pandas"
   ]
  },
  {
   "cell_type": "code",
   "execution_count": 21,
   "metadata": {},
   "outputs": [],
   "source": [
    "import pandas as pd\n",
    "import numpy as np"
   ]
  },
  {
   "cell_type": "markdown",
   "metadata": {},
   "source": [
    "## Reading Data from Different Formats"
   ]
  },
  {
   "cell_type": "code",
   "execution_count": 22,
   "metadata": {},
   "outputs": [],
   "source": [
    "csv_data = pd.read_csv('Data.csv')  \n",
    "\n",
    "# Reading an Excel file\n",
    "#excel_data = pd.read_excel('sample_data.xlsx')  "
   ]
  },
  {
   "cell_type": "markdown",
   "metadata": {},
   "source": [
    "## Finding the Shape of the Data,Null values"
   ]
  },
  {
   "cell_type": "code",
   "execution_count": 23,
   "metadata": {},
   "outputs": [
    {
     "name": "stdout",
     "output_type": "stream",
     "text": [
      "Shape of the data: (10, 4)\n",
      "Missing values per column:\n",
      "Country      0\n",
      "Age          1\n",
      "Salary       1\n",
      "Purchased    0\n",
      "dtype: int64\n"
     ]
    }
   ],
   "source": [
    "data = csv_data\n",
    "\n",
    "# b) Find Shape of Data\n",
    "shape_of_data = data.shape\n",
    "print(f\"Shape of the data: {shape_of_data}\")\n",
    "\n",
    "# c) Find Missing Values\n",
    "missing_values = data.isnull().sum()\n",
    "print(f\"Missing values per column:\\n{missing_values}\")"
   ]
  },
  {
   "cell_type": "markdown",
   "metadata": {},
   "source": [
    "## Finding the Data Type of Each Column\n",
    "## Finding the Zero in each Column"
   ]
  },
  {
   "cell_type": "code",
   "execution_count": 24,
   "metadata": {},
   "outputs": [
    {
     "name": "stdout",
     "output_type": "stream",
     "text": [
      "Data types of columns:\n",
      "Country       object\n",
      "Age          float64\n",
      "Salary       float64\n",
      "Purchased     object\n",
      "dtype: object\n",
      "Number of zeros in each column:\n",
      "Country      0\n",
      "Age          0\n",
      "Salary       0\n",
      "Purchased    0\n",
      "dtype: int64\n"
     ]
    }
   ],
   "source": [
    "# d) Find data type of each column\n",
    "data_types = data.dtypes\n",
    "print(f\"Data types of columns:\\n{data_types}\")\n",
    "\n",
    "# e) Finding out Zeros\n",
    "zero_counts = (data == 0).sum()\n",
    "print(f\"Number of zeros in each column:\\n{zero_counts}\")"
   ]
  },
  {
   "cell_type": "markdown",
   "metadata": {},
   "source": [
    "## Indexing, Selecting, and Sorting Data"
   ]
  },
  {
   "cell_type": "code",
   "execution_count": 25,
   "metadata": {},
   "outputs": [
    {
     "name": "stdout",
     "output_type": "stream",
     "text": [
      "Selected Data:\n",
      "   Country   Age   Salary\n",
      "0   France  44.0  72000.0\n",
      "1    Spain  27.0  48000.0\n",
      "2  Germany  30.0  54000.0\n",
      "3    Spain  38.0  61000.0\n",
      "4  Germany  40.0      NaN\n"
     ]
    }
   ],
   "source": [
    "selected_data = data.iloc[:5, :3]  # First 5 rows, first 3 columns\n",
    "print(f\"Selected Data:\\n{selected_data}\")\n"
   ]
  },
  {
   "cell_type": "code",
   "execution_count": 26,
   "metadata": {},
   "outputs": [
    {
     "name": "stdout",
     "output_type": "stream",
     "text": [
      "Data sorted by 'Age':\n",
      "   Country   Age   Salary Purchased\n",
      "1    Spain  27.0  48000.0       Yes\n",
      "2  Germany  30.0  54000.0        No\n",
      "5   France  35.0  58000.0       Yes\n",
      "9   France  37.0  67000.0       Yes\n",
      "3    Spain  38.0  61000.0        No\n"
     ]
    }
   ],
   "source": [
    "sorted_data = data.sort_values(by='Age', ascending=True)\n",
    "print(f\"Data sorted by 'Age':\\n{sorted_data.head()}\")\n"
   ]
  },
  {
   "cell_type": "markdown",
   "metadata": {},
   "source": [
    "## Counting Unique Values in Data"
   ]
  },
  {
   "cell_type": "code",
   "execution_count": 27,
   "metadata": {},
   "outputs": [
    {
     "name": "stdout",
     "output_type": "stream",
     "text": [
      "Unique value counts for each column:\n",
      "Country      3\n",
      "Age          9\n",
      "Salary       9\n",
      "Purchased    2\n",
      "dtype: int64\n"
     ]
    }
   ],
   "source": [
    "unique_counts = data.nunique()\n",
    "print(f\"Unique value counts for each column:\\n{unique_counts}\")\n"
   ]
  },
  {
   "cell_type": "markdown",
   "metadata": {},
   "source": [
    "## Formatting and Converting Variable Data Types"
   ]
  },
  {
   "cell_type": "code",
   "execution_count": 28,
   "metadata": {},
   "outputs": [
    {
     "name": "stdout",
     "output_type": "stream",
     "text": [
      "Formatted 'Salary' column as currency:\n",
      "0    $72,000.00\n",
      "1    $48,000.00\n",
      "2    $54,000.00\n",
      "3    $61,000.00\n",
      "4          $nan\n",
      "5    $58,000.00\n",
      "6    $52,000.00\n",
      "7    $79,000.00\n",
      "8    $83,000.00\n",
      "9    $67,000.00\n",
      "Name: Salary, dtype: object\n"
     ]
    }
   ],
   "source": [
    "df = pd.DataFrame(data)\n",
    "df['Salary'] = df['Salary'].apply(lambda x: f\"${x:,.2f}\")\n",
    "print(\"Formatted 'Salary' column as currency:\")\n",
    "print(df['Salary'])\n",
    "\n",
    "\n"
   ]
  },
  {
   "cell_type": "code",
   "execution_count": 29,
   "metadata": {},
   "outputs": [
    {
     "name": "stdout",
     "output_type": "stream",
     "text": [
      "Converted 'Purchased' column to boolean:\n",
      "0    False\n",
      "1     True\n",
      "2    False\n",
      "3    False\n",
      "4     True\n",
      "5     True\n",
      "6    False\n",
      "7     True\n",
      "8    False\n",
      "9     True\n",
      "Name: Purchased, dtype: bool\n"
     ]
    }
   ],
   "source": [
    "df['Purchased'] = df['Purchased'].map({'Yes': True, 'No': False})\n",
    "print(\"Converted 'Purchased' column to boolean:\")\n",
    "print(df['Purchased'])\n"
   ]
  },
  {
   "cell_type": "markdown",
   "metadata": {},
   "source": [
    "## Describing the Attributes of the Data"
   ]
  },
  {
   "cell_type": "code",
   "execution_count": 30,
   "metadata": {},
   "outputs": [
    {
     "name": "stdout",
     "output_type": "stream",
     "text": [
      "Description of data:\n",
      "       Country        Age        Salary Purchased\n",
      "count       10   9.000000      9.000000        10\n",
      "unique       3        NaN           NaN         2\n",
      "top     France        NaN           NaN        No\n",
      "freq         4        NaN           NaN         5\n",
      "mean       NaN  38.777778  63777.777778       NaN\n",
      "std        NaN   7.693793  12265.579662       NaN\n",
      "min        NaN  27.000000  48000.000000       NaN\n",
      "25%        NaN  35.000000  54000.000000       NaN\n",
      "50%        NaN  38.000000  61000.000000       NaN\n",
      "75%        NaN  44.000000  72000.000000       NaN\n",
      "max        NaN  50.000000  83000.000000       NaN\n"
     ]
    }
   ],
   "source": [
    "## Describing the Attributes of the Data\n",
    "data_description = data.describe(include='all')  # Summary statistics\n",
    "print(f\"Description of data:\\n{data_description}\")\n"
   ]
  }
 ],
 "metadata": {
  "kernelspec": {
   "display_name": "Python 3",
   "language": "python",
   "name": "python3"
  },
  "language_info": {
   "codemirror_mode": {
    "name": "ipython",
    "version": 3
   },
   "file_extension": ".py",
   "mimetype": "text/x-python",
   "name": "python",
   "nbconvert_exporter": "python",
   "pygments_lexer": "ipython3",
   "version": "3.10.11"
  }
 },
 "nbformat": 4,
 "nbformat_minor": 2
}

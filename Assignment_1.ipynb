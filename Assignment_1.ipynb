{
 "cells": [
  {
   "cell_type": "markdown",
   "metadata": {},
   "source": [
    "# Data Analysis Operations in Python using Pandas"
   ]
  },
  {
   "cell_type": "code",
   "execution_count": null,
   "metadata": {},
   "outputs": [],
   "source": [
    "import pandas as pd\n",
    "import numpy as np"
   ]
  },
  {
   "cell_type": "markdown",
   "metadata": {},
   "source": [
    "## Reading Data from Different Formats"
   ]
  },
  {
   "cell_type": "code",
   "execution_count": null,
   "metadata": {},
   "outputs": [],
   "source": [
    "csv_data = pd.read_csv('Data.csv')  \n",
    "\n",
    "# Reading an Excel file\n",
    "#excel_data = pd.read_excel('sample_data.xlsx')  "
   ]
  },
  {
   "cell_type": "markdown",
   "metadata": {},
   "source": [
    "## Finding the Shape of the Data,Null values"
   ]
  },
  {
   "cell_type": "code",
   "execution_count": null,
   "metadata": {},
   "outputs": [],
   "source": [
    "data = csv_data\n",
    "\n",
    "# b) Find Shape of Data\n",
    "shape_of_data = data.shape\n",
    "print(f\"Shape of the data: {shape_of_data}\")\n",
    "\n",
    "# c) Find Missing Values\n",
    "missing_values = data.isnull().sum()\n",
    "print(f\"Missing values per column:\\n{missing_values}\")"
   ]
  },
  {
   "cell_type": "markdown",
   "metadata": {},
   "source": [
    "## Finding the Data Type of Each Column\n",
    "## Finding the Zero in each clumn"
   ]
  },
  {
   "cell_type": "code",
   "execution_count": null,
   "metadata": {},
   "outputs": [],
   "source": [
    "# d) Find data type of each column\n",
    "data_types = data.dtypes\n",
    "print(f\"Data types of columns:\\n{data_types}\")\n",
    "\n",
    "# e) Finding out Zeros\n",
    "zero_counts = (data == 0).sum()\n",
    "print(f\"Number of zeros in each column:\\n{zero_counts}\""
   ]
  },
  {
   "cell_type": "markdown",
   "metadata": {},
   "source": [
    "## Indexing, Selecting, and Sorting Data"
   ]
  },
  {
   "cell_type": "code",
   "execution_count": null,
   "metadata": {},
   "outputs": [],
   "source": [
    "selected_data = data.iloc[:5, :3]  # First 5 rows, first 3 columns\n",
    "print(f\"Selected Data:\\n{selected_data}\")\n"
   ]
  },
  {
   "cell_type": "code",
   "execution_count": null,
   "metadata": {},
   "outputs": [],
   "source": [
    "sorted_data = data.sort_values(by='Column1', ascending=True)\n",
    "print(f\"Data sorted by 'Column1':\\n{sorted_data.head()}\")\n"
   ]
  },
  {
   "cell_type": "markdown",
   "metadata": {},
   "source": [
    "## Counting Unique Values in Data"
   ]
  },
  {
   "cell_type": "code",
   "execution_count": null,
   "metadata": {},
   "outputs": [],
   "source": [
    "unique_counts = data.nunique()\n",
    "print(f\"Unique value counts for each column:\\n{unique_counts}\")\n"
   ]
  },
  {
   "cell_type": "markdown",
   "metadata": {},
   "source": [
    "## Formatting and Converting Variable Data Types"
   ]
  },
  {
   "cell_type": "code",
   "execution_count": null,
   "metadata": {},
   "outputs": [],
   "source": [
    "if 'Date' in data.columns:\n",
    "    data['Date'] = pd.to_datetime(data['Date'])\n",
    "    print(\"Formatted 'Date' column to datetime.\")\n"
   ]
  },
  {
   "cell_type": "code",
   "execution_count": null,
   "metadata": {},
   "outputs": [],
   "source": [
    "if 'ID' in data.columns:\n",
    "    data['ID'] = data['ID'].astype(str)\n",
    "    print(\"Converted 'ID' column to string type.\")\n"
   ]
  },
  {
   "cell_type": "markdown",
   "metadata": {},
   "source": [
    "## Describing the Attributes of the Data"
   ]
  },
  {
   "cell_type": "code",
   "execution_count": null,
   "metadata": {},
   "outputs": [],
   "source": [
    "## Describing the Attributes of the Data\n",
    "data_description = data.describe(include='all')  # Summary statistics\n",
    "print(f\"Description of data:\\n{data_description}\")\n"
   ]
  }
 ],
 "metadata": {
  "language_info": {
   "name": "python"
  }
 },
 "nbformat": 4,
 "nbformat_minor": 2
}
